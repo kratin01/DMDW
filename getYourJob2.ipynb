{
 "cells": [
  {
   "cell_type": "markdown",
   "id": "b36a7ccb",
   "metadata": {},
   "source": [
    "## 📦 Importing Libraries  \n",
    "We begin by importing essential libraries for text preprocessing, stemming, and creating an inverted index.\n"
   ]
  },
  {
   "cell_type": "code",
   "execution_count": null,
   "id": "3f472827",
   "metadata": {},
   "outputs": [],
   "source": [
    "import re  # for text cleaning\n",
    "from nltk.stem.porter import PorterStemmer  # for stemming (getting root words)\n",
    "from collections import defaultdict  # better version of dictionary\n",
    "import pandas as pd"
   ]
  },
  {
   "cell_type": "markdown",
   "id": "52649eb9",
   "metadata": {},
   "source": [
    "## 📋 Sample Job Descriptions  \n",
    "Here’s a sample dataset of job descriptions we’ll use to test our search engine.\n"
   ]
  },
  {
   "cell_type": "code",
   "execution_count": null,
   "id": "38843dce",
   "metadata": {},
   "outputs": [],
   "source": [
    "df = pd.read_csv(\"sample_job_dataset.csv\")\n",
    "df.head()\n"
   ]
  },
  {
   "cell_type": "markdown",
   "id": "a0b4930b",
   "metadata": {},
   "source": [
    "## 🧹 Preprocessing Function  \n",
    "This function cleans and stems the job description text to normalize it for matching.\n"
   ]
  },
  {
   "cell_type": "code",
   "execution_count": null,
   "id": "4f0d771d",
   "metadata": {},
   "outputs": [],
   "source": [
    "# Create a stemmer object\n",
    "stemmer = PorterStemmer()\n",
    "\n",
    "# Function to clean and stem words\n",
    "def preprocess(text):\n",
    "    text = re.sub(r'[^a-zA-Z\\s]', '', text.lower())  # remove punctuation and make lowercase\n",
    "    words = text.split()  # split into words\n",
    "    stemmed = [stemmer.stem(word) for word in words]  # stem each word\n",
    "    return stemmed\n"
   ]
  },
  {
   "cell_type": "markdown",
   "id": "c5d15b46",
   "metadata": {},
   "source": [
    "## 📚 Building the Inverted Index  \n",
    "We create an inverted index to map each word to the job descriptions that contain it.\n"
   ]
  },
  {
   "cell_type": "code",
   "execution_count": null,
   "id": "5e201d7e",
   "metadata": {},
   "outputs": [],
   "source": [
    "inverted_index = defaultdict(set)\n",
    "\n",
    "# Fill the inverted index with job data from CSV\n",
    "for _, row in df.iterrows():\n",
    "    words = preprocess(row[\"description\"])  # clean each job's description\n",
    "    for word in words:\n",
    "        inverted_index[word].add(row[\"id\"])  # link each word to job ID"
   ]
  },
  {
   "cell_type": "markdown",
   "id": "b814b22a",
   "metadata": {},
   "source": [
    "## 🔍 Keyword-Based Job Search  \n",
    "This function searches for relevant jobs using keyword-based matching from the inverted index.\n",
    "\n"
   ]
  },
  {
   "cell_type": "code",
   "execution_count": null,
   "id": "2eb06190",
   "metadata": {},
   "outputs": [],
   "source": [
    "def search(query):\n",
    "    query_words = preprocess(query)  # clean user query\n",
    "    job_scores = defaultdict(int)  # store match score for each job\n",
    "\n",
    "    for word in query_words:\n",
    "        for job_id in inverted_index.get(word, []):  # get job IDs that contain the word\n",
    "            job_scores[job_id] += 1  # add score if word matches\n",
    "\n",
    "    # Sort jobs based on score (most relevant first)\n",
    "    sorted_jobs = sorted(job_scores.items(), key=lambda x: x[1], reverse=True)\n",
    "\n",
    "    if not sorted_jobs:\n",
    "        print(\"No matching jobs found.\")\n",
    "        return\n",
    "\n",
    "    print(\"Top matching jobs:\\n\")\n",
    "    for job_id, score in sorted_jobs[:3]:  # show top 3 jobs\n",
    "        job = df[df[\"id\"] == job_id].iloc[0]  # get the job row from the dataframe\n",
    "        print(f\"🔹 {job['title']} (ID: {job_id}) — Match Score: {score}\")\n",
    "        print(f\"📝 Description: {job['description']}\\n\")"
   ]
  },
  {
   "cell_type": "markdown",
   "id": "73d6073a",
   "metadata": {},
   "source": [
    "## 🧑‍💻 Run a Keyword-Based Search  \n",
    "User enters a query and the system returns matching job descriptions using keyword relevance.\n"
   ]
  },
  {
   "cell_type": "code",
   "execution_count": null,
   "id": "51b1cb7a",
   "metadata": {},
   "outputs": [],
   "source": [
    "# Ask the user for a search query\n",
    "user_query = input(\"Enter job keywords (e.g., 'SQL Developer'): \")\n",
    "search(user_query)\n"
   ]
  },
  {
   "cell_type": "code",
   "execution_count": null,
   "id": "041233d7",
   "metadata": {},
   "outputs": [],
   "source": [
    "\n",
    "from sklearn.feature_extraction.text import TfidfVectorizer\n",
    "from sklearn.linear_model import LogisticRegression\n",
    "from sklearn.model_selection import train_test_split\n",
    "from sklearn.metrics import accuracy_score\n"
   ]
  },
  {
   "cell_type": "code",
   "execution_count": null,
   "id": "90a87fa3",
   "metadata": {},
   "outputs": [],
   "source": []
  },
  {
   "cell_type": "code",
   "execution_count": null,
   "id": "9ed68647",
   "metadata": {},
   "outputs": [],
   "source": [
    "vectorizer = TfidfVectorizer()\n",
    "X = vectorizer.fit_transform(df[\"description\"])\n"
   ]
  },
  {
   "cell_type": "code",
   "execution_count": null,
   "id": "0c4bf803",
   "metadata": {},
   "outputs": [],
   "source": [
    "y = df[\"category\"]\n"
   ]
  },
  {
   "cell_type": "code",
   "execution_count": null,
   "id": "c8ab2bd8",
   "metadata": {},
   "outputs": [],
   "source": [
    "X_train, X_test, y_train, y_test = train_test_split(X, y, test_size=0.2, random_state=42)\n"
   ]
  },
  {
   "cell_type": "code",
   "execution_count": null,
   "id": "7df59ba6",
   "metadata": {},
   "outputs": [],
   "source": [
    "model = LogisticRegression()\n",
    "model.fit(X_train, y_train)\n"
   ]
  },
  {
   "cell_type": "code",
   "execution_count": null,
   "id": "be4ce518",
   "metadata": {},
   "outputs": [],
   "source": [
    "y_pred = model.predict(X_test)\n",
    "print(\"Accuracy:\", accuracy_score(y_test, y_pred))\n"
   ]
  },
  {
   "cell_type": "code",
   "execution_count": null,
   "id": "7e633a60",
   "metadata": {},
   "outputs": [],
   "source": [
    "user_query = input(\"Enter your job-related query: \")\n",
    "query_vec = vectorizer.transform([user_query])\n",
    "predicted_category = model.predict(query_vec)[0]\n",
    "print(f\"\\nPredicted Category: {predicted_category}\")\n"
   ]
  },
  {
   "cell_type": "code",
   "execution_count": null,
   "id": "9f264f5e",
   "metadata": {},
   "outputs": [],
   "source": [
    "print(f\"\\nTop jobs in '{predicted_category}' category:\\n\")\n",
    "matches = df[df[\"category\"] == predicted_category]\n",
    "\n",
    "for i, row in matches.iterrows():\n",
    "    print(f\"🔹 {row['title']} (ID: {row['id']})\")\n",
    "    print(f\"📝 Description: {row['description']}\\n\")\n"
   ]
  },
  {
   "cell_type": "code",
   "execution_count": null,
   "id": "51521675",
   "metadata": {},
   "outputs": [],
   "source": [
    "# Apply stemming to all job descriptions\n",
    "processed_descriptions = [\" \".join(preprocess(description)) for description in df['description']]\n"
   ]
  },
  {
   "cell_type": "code",
   "execution_count": null,
   "id": "701dac3e",
   "metadata": {},
   "outputs": [],
   "source": [
    "# Get and preprocess the user query\n",
    "user_query = input(\"Enter job keywords (e.g., 'SQL Developer'): \")\n",
    "processed_query = \" \".join(preprocess(user_query))\n"
   ]
  },
  {
   "cell_type": "code",
   "execution_count": null,
   "id": "9c0c9833",
   "metadata": {},
   "outputs": [],
   "source": [
    "# Combine job descriptions and query into one list\n",
    "corpus = processed_descriptions + [processed_query]\n"
   ]
  },
  {
   "cell_type": "code",
   "execution_count": null,
   "id": "e546de4d",
   "metadata": {},
   "outputs": [],
   "source": [
    "from sklearn.feature_extraction.text import CountVectorizer\n",
    "\n",
    "vectorizer = CountVectorizer()\n",
    "vectors = vectorizer.fit_transform(corpus)\n"
   ]
  },
  {
   "cell_type": "code",
   "execution_count": null,
   "id": "f1e49f0e",
   "metadata": {},
   "outputs": [],
   "source": [
    "from sklearn.metrics.pairwise import cosine_similarity\n",
    "\n",
    "similarity_scores = cosine_similarity(vectors[-1], vectors[:-1]).flatten()\n"
   ]
  },
  {
   "cell_type": "code",
   "execution_count": null,
   "id": "a43adf2a",
   "metadata": {},
   "outputs": [],
   "source": [
    "top_indices = similarity_scores.argsort()[::-1][:3]\n"
   ]
  },
  {
   "cell_type": "code",
   "execution_count": null,
   "id": "75aa3392",
   "metadata": {},
   "outputs": [],
   "source": [
    "print(\"\\nTop matching jobs:\\n\")\n",
    "for idx in top_indices:\n",
    "    job = df.iloc[idx]  # Access job data using the index\n",
    "    score = similarity_scores[idx]\n",
    "    print(f\"🔹 {job['title']} (ID: {job['id']}) — Similarity Score: {round(score, 2)}\")\n",
    "    print(f\"📝 Description: {job['description']}\\n\")"
   ]
  }
 ],
 "metadata": {
  "kernelspec": {
   "display_name": "Python 3",
   "language": "python",
   "name": "python3"
  },
  "language_info": {
   "codemirror_mode": {
    "name": "ipython",
    "version": 3
   },
   "file_extension": ".py",
   "mimetype": "text/x-python",
   "name": "python",
   "nbconvert_exporter": "python",
   "pygments_lexer": "ipython3",
   "version": "3.13.3"
  }
 },
 "nbformat": 4,
 "nbformat_minor": 5
}
